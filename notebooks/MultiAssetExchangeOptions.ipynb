{
 "cells": [
  {
   "cell_type": "markdown",
   "metadata": {},
   "source": [
    "# Multi-asset option pricing - Monte Carlo - exchange option"
   ]
  },
  {
   "cell_type": "code",
   "execution_count": 1,
   "metadata": {},
   "outputs": [],
   "source": [
    "import sys\n",
    "sys.path.append('..')\n",
    "\n",
    "\n",
    "from optionpricer import payoff\n",
    "from optionpricer import option\n",
    "from optionpricer import bspde\n",
    "from optionpricer import analytics\n",
    "from optionpricer import parameter as prmtr\n",
    "from optionpricer import path\n",
    "from optionpricer import generator\n",
    "from optionpricer import montecarlo\n",
    "\n",
    "import numpy as np\n",
    "from scipy import linalg\n",
    "\n",
    "import matplotlib as mpl\n",
    "import matplotlib.pyplot as plt\n",
    "import seaborn as sns"
   ]
  },
  {
   "cell_type": "code",
   "execution_count": 2,
   "metadata": {},
   "outputs": [],
   "source": [
    "# option and market properties \n",
    "expiry    = 1.0/12.0 # time until expiry (annualized)\n",
    "r0        = 0.094    # interest rate (as decimal, not percentage) \n",
    "\n",
    "# properties of the underlyings\n",
    "sig=np.array([0.05,0.09]) # volatility (annualized) for underlyings [vol stock 1, vol stock 2]\n",
    "rho = 0.8                 # correlation between the two underlyings\n",
    "correlation_matrix = np.array([[1.0,rho],[rho,1.0]])\n",
    "\n",
    "# the spot values we will want to price the option at for the two underlyings\n",
    "spot0 = np.linspace(30.0,70.0,30)\n",
    "spot1 = np.linspace(40.0,60.0,20)\n",
    "# create a meshgrid to easily run over all combinations of spots, and for ease of plotting later \n",
    "SPOT0,SPOT1 = np.meshgrid(spot0,spot1)\n",
    "\n",
    "# # use r0, and the volatilities (elements of sig) to make a SimpleParam objects containing these values\n",
    "r_param   = prmtr.SimpleParam(r0)\n",
    "sig0_p = prmtr.SimpleParam(sig[0])\n",
    "sig1_p = prmtr.SimpleParam(sig[1])"
   ]
  },
  {
   "cell_type": "code",
   "execution_count": 3,
   "metadata": {},
   "outputs": [
    {
     "name": "stdout",
     "output_type": "stream",
     "text": [
      "[[0.05  0.   ]\n",
      " [0.072 0.054]]\n",
      "[[0.0025 0.0036]\n",
      " [0.0036 0.0081]]\n"
     ]
    }
   ],
   "source": [
    "# we can use the correlation matrix of the underlyings to construct the covariance matrix\n",
    "\n",
    "covars = correlation_matrix*np.outer(sig,sig)\n",
    "\n",
    "# We can then Cholesky decompose the covariance matrix\n",
    "L = linalg.cholesky(covars,lower=True)\n",
    "# we obtain a lower traingular matrix which can be used to generate movements of the underlying \n",
    "# which obey the covariance (/correlation) we defined above\n",
    "print(L)\n",
    "print(np.dot(L,L.T))\n",
    "\n",
    "# create a simpleArrayParam (this object stores an array which is constant in time) usung L\n",
    "covariance_param = prmtr.SimpleArrayParam(covars)\n",
    "cholesky_param = prmtr.SimpleArrayParam(L)"
   ]
  },
  {
   "cell_type": "code",
   "execution_count": 4,
   "metadata": {},
   "outputs": [],
   "source": [
    "# define the Spread option - with strike of 0 to make it an exchange option\n",
    "exchange_po     = payoff.SpreadPayOff(0.0)\n",
    "# also valid for payoff of exchnage option: exchange_po=payoff.ExchangePayOff()\n",
    "exchange_option = option.VanillaOption(exchange_po,expiry)"
   ]
  },
  {
   "cell_type": "code",
   "execution_count": 5,
   "metadata": {},
   "outputs": [],
   "source": [
    "# define the random generator for problem - here normally districuted log returns\n",
    "gen_norm = generator.Normal()\n",
    "# decorate the generator, making it an antithetic generator for variance reduction\n",
    "gen_norm_antith = generator.Antithetic(gen_norm)"
   ]
  },
  {
   "cell_type": "code",
   "execution_count": null,
   "metadata": {},
   "outputs": [],
   "source": [
    "# Define a multiasset montecarlo pricer\n",
    "mc_pricer = montecarlo.MAMonteCarlo(exchange_option,gen_norm_antith)\n",
    "\n",
    "# initialize arrays for prices \n",
    "mc_prices = np.zeros_like(SPOT0)\n",
    "# we also initialize an array of option prices using the analytic magrabe price of exchange option\n",
    "magrabe_prices = np.zeros_like(SPOT0)\n",
    "\n",
    "# loop over spots, and calculate the price of the option\n",
    "for ind0 in range(SPOT0.shape[0]):\n",
    "    for ind1 in range(SPOT0.shape[1]):\n",
    "        s = np.array([SPOT0[ind0,ind1],SPOT1[ind0,ind1]])\n",
    "        mc_prices[ind0,ind1] = mc_pricer.solve_price(s,r_param,covariance_param,cholesky_param,eps_tol=0.0001)\n",
    "        magrabe_prices[ind0,ind1] =  analytics.margrabe_option_price(s,expiry,covars)\n"
   ]
  },
  {
   "cell_type": "code",
   "execution_count": null,
   "metadata": {},
   "outputs": [],
   "source": [
    "# set up plotting parameters for nice to view plots\n",
    "sns.set()\n",
    "mpl.rcParams['lines.linewidth']  = 2.0\n",
    "mpl.rcParams['font.weight']      = 'bold'\n",
    "mpl.rcParams['axes.labelweight'] = 'bold'\n",
    "mpl.rcParams['axes.titlesize']   = 12\n",
    "mpl.rcParams['axes.titleweight'] = 'bold'\n",
    "mpl.rcParams['font.size']        = 12\n",
    "mpl.rcParams['legend.frameon']   = False\n",
    "mpl.rcParams['figure.figsize']   = [15,10]"
   ]
  },
  {
   "cell_type": "code",
   "execution_count": null,
   "metadata": {},
   "outputs": [],
   "source": [
    "# we will plot the monte carlo, magrabe price, and the differen between the two (the error)\n",
    "\n",
    "f, (ax1, ax2, ax3) = plt.subplots(3, 1, sharex=True)\n",
    "\n",
    "# calculate values of min and max expected values \n",
    "# use to set colormap max/min values to ensure they're the same for both plots of price\n",
    "vmin_=min(np.amin(mc_prices),np.amin(magrabe_prices))\n",
    "vmax_=max(np.amax(mc_prices),np.amax(magrabe_prices))\n",
    "\n",
    "# subplot of Monte Carlo\n",
    "im1 = ax1.pcolormesh(spot0,spot1,mc_prices,vmin=vmin_,vmax=vmax_)\n",
    "plt.colorbar(im1,ax=ax1)\n",
    "\n",
    "# subplot of Magrabe price\n",
    "im2 = ax2.pcolormesh(spot0,spot1,magrabe_prices,vmin=vmin_,vmax=vmax_)\n",
    "plt.colorbar(im2,ax=ax2)\n",
    "\n",
    "# subplot of error\n",
    "im3 = ax3.pcolormesh(spot0,spot1,np.abs(magrabe_prices-mc_prices))\n",
    "plt.colorbar(im3,ax=ax3)\n",
    "ax3.set_xlabel('spot 0')\n",
    "\n",
    "# set titles and y lables of subplots\n",
    "titles = ['Monte Carlo','Magrabe Price','|Margrabe-MC|']\n",
    "for i,ax in enumerate([ax1,ax2,ax3]):\n",
    "    ax.set_ylabel('spot 1')\n",
    "    ax.set_title(titles[i])\n",
    "\n",
    "plt.show()"
   ]
  },
  {
   "cell_type": "code",
   "execution_count": null,
   "metadata": {},
   "outputs": [],
   "source": []
  }
 ],
 "metadata": {
  "kernelspec": {
   "display_name": "Python 3",
   "language": "python",
   "name": "python3"
  },
  "language_info": {
   "codemirror_mode": {
    "name": "ipython",
    "version": 3
   },
   "file_extension": ".py",
   "mimetype": "text/x-python",
   "name": "python",
   "nbconvert_exporter": "python",
   "pygments_lexer": "ipython3",
   "version": "3.6.8"
  }
 },
 "nbformat": 4,
 "nbformat_minor": 2
}
