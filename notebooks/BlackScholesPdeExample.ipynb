{
 "cells": [
  {
   "cell_type": "code",
   "execution_count": 1,
   "metadata": {},
   "outputs": [],
   "source": [
    "import sys\n",
    "sys.path.append('..')\n",
    "\n",
    "from optionpricer import payoff\n",
    "from optionpricer import option\n",
    "from optionpricer import bspde\n",
    "from optionpricer import analytics\n",
    "\n",
    "import numpy as np\n",
    "\n",
    "import matplotlib as mpl\n",
    "import matplotlib.pyplot as plt\n",
    "import seaborn as sns"
   ]
  },
  {
   "cell_type": "code",
   "execution_count": 2,
   "metadata": {},
   "outputs": [
    {
     "name": "stdout",
     "output_type": "stream",
     "text": [
      "a vanilla option with a call pay off with strike:50.0, and expiry: 210.0days\n"
     ]
    }
   ],
   "source": [
    "\n",
    "# set up the properties of the underlying, and option\n",
    "strike = 50.0      # the strike price of the option\n",
    "expiry = 10.0/12.0 # time until expiry (annualized)\n",
    "r      = 0.024     # interest rate (as decimal, not percentage) \n",
    "sig    = 0.12      # volatility (annualized)\n",
    "\n",
    "# create a payoff object, for a call payoff with the strike as set above\n",
    "call_payoff = payoff.CallPayOff(strike)\n",
    "# create the option object, using the payoff we just created, and our expiry\n",
    "call_option = option.VanillaOption(call_payoff,expiry)\n",
    "\n",
    "# printing the option tells us something useful about the object\n",
    "print(call_option)"
   ]
  },
  {
   "cell_type": "code",
   "execution_count": 3,
   "metadata": {},
   "outputs": [],
   "source": [
    "# To price the option via PDE methods, we first create a Boundary Condition\n",
    "# object, here in 1D because we are pricing an option on 1 underlying\n",
    "\n",
    "bcs = bspde.BoundaryConditions1D()\n",
    "# we should really here apply specific boundary conditions, such as Dirichlet or Neumann\n",
    "# conditions at the edges of the grid. Here though, in this simple case they can be neglected\n",
    "# at the cost of some accuracy.\n",
    "\n",
    "# create the pricing object, using our option (call_option), interest rate (r) \n",
    "# ,volatility (sig), and boundary conditions (bcs) we defined earlier. \n",
    "bspricer = bspde.BlackScholesSingleAssetPricer(call_option,r,sig,bcs)\n",
    "# N.b. we haven;t yet run the solver, just created an object that will perform this"
   ]
  },
  {
   "cell_type": "code",
   "execution_count": 4,
   "metadata": {},
   "outputs": [],
   "source": [
    "# define the spots at which we want to calculate the price of the option\n",
    "spots=np.linspace(30.0,60.0,20)\n",
    "\n",
    "# use our Black Scholes pde pricer (bspricer) to get the price of the option at 'spots'\n",
    "prices    = bspricer.solve(spots)\n",
    "# for comparison get the analytic (exact, within BS assumtions) price of the option\n",
    "bs_prices = analytics.black_scholes_call_price(spots,strike,expiry,r,sig)"
   ]
  },
  {
   "cell_type": "code",
   "execution_count": 5,
   "metadata": {},
   "outputs": [
    {
     "data": {
      "image/png": "[encoded data removed]",
      "text/plain": [
       "<Figure size 432x288 with 1 Axes>"
      ]
     },
     "metadata": {},
     "output_type": "display_data"
    }
   ],
   "source": [
    "sns.set()\n",
    "mpl.rcParams['lines.linewidth']  = 2.0\n",
    "mpl.rcParams['font.weight']      = 'bold'\n",
    "mpl.rcParams['axes.labelweight'] = 'bold'\n",
    "mpl.rcParams['font.size']        = 12\n",
    "mpl.rcParams['legend.frameon']   = False\n",
    "\n",
    "plt.plot(spots, prices, 'k',label='PDE solution')\n",
    "plt.plot(spots, bs_prices, 'r--',label='analytic solution')\n",
    "\n",
    "plt.legend()\n",
    "\n",
    "plt.xlim([spots[0],spots[-1]])\n",
    "plt.ylim([-0.5, 1.05*max(np.amax(prices),np.amax(bs_prices))])\n",
    "plt.show()"
   ]
  }
 ],
 "metadata": {
  "kernelspec": {
   "display_name": "Python 3",
   "language": "python",
   "name": "python3"
  },
  "language_info": {
   "codemirror_mode": {
    "name": "ipython",
    "version": 3
   },
   "file_extension": ".py",
   "mimetype": "text/x-python",
   "name": "python",
   "nbconvert_exporter": "python",
   "pygments_lexer": "ipython3",
   "version": "3.6.8"
  }
 },
 "nbformat": 4,
 "nbformat_minor": 2
}
